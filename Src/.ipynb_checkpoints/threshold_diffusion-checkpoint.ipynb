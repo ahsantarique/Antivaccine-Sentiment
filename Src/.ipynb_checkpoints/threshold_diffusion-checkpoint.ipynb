{
 "cells": [
  {
   "cell_type": "code",
   "execution_count": 7,
   "metadata": {
    "colab": {},
    "colab_type": "code",
    "id": "R9QEnY6JWpIP"
   },
   "outputs": [],
   "source": [
    "import networkx as nx\n",
    "from enum import Enum\n",
    "import numpy as np\n",
    "import copy\n",
    "import random\n",
    "import matplotlib.pyplot as plt\n",
    "import pandas as pd\n",
    "import pickle\n",
    "import itertools\n",
    "import operator"
   ]
  },
  {
   "cell_type": "code",
   "execution_count": 8,
   "metadata": {},
   "outputs": [],
   "source": [
    "import util"
   ]
  },
  {
   "cell_type": "code",
   "execution_count": 9,
   "metadata": {},
   "outputs": [],
   "source": [
    "import strategy_vector_manipulator as strategy"
   ]
  },
  {
   "cell_type": "code",
   "execution_count": 10,
   "metadata": {},
   "outputs": [],
   "source": [
    "import init_sentiment"
   ]
  },
  {
   "cell_type": "code",
   "execution_count": 11,
   "metadata": {},
   "outputs": [],
   "source": [
    "import stubborn_nodes"
   ]
  },
  {
   "cell_type": "code",
   "execution_count": 12,
   "metadata": {
    "colab": {},
    "colab_type": "code",
    "id": "ny0MH1_zxRFh"
   },
   "outputs": [],
   "source": [
    "# !pip install networkit\n",
    "# !pip install oct2py\n",
    "# import get_BTER_graph"
   ]
  },
  {
   "cell_type": "code",
   "execution_count": 13,
   "metadata": {},
   "outputs": [],
   "source": [
    "def threshold_process(S0, theta, graph, verbose):\n",
    "    'S0 is a set, theta is the threshold vector'\n",
    "\n",
    "    V = set(graph)\n",
    "    t = 0\n",
    "    S = S0\n",
    "    \n",
    "    #calculate each node's d(i, S0) first\n",
    "    dS = {}\n",
    "    \n",
    "    for i in V:\n",
    "        dsi = 0\n",
    "        for j in graph.neighbors(i):\n",
    "            if j in S:\n",
    "                dsi += 1\n",
    "        dS.update({i:dsi})\n",
    "    \n",
    "#     print(\"initial dS: \", dS)\n",
    "    \n",
    "    new_added = True\n",
    "    \n",
    "    while(new_added):\n",
    "        t += 1\n",
    "        new_added = False\n",
    "        \n",
    "        for i in V.difference(S):\n",
    "            if dS[i] >= theta[i]:\n",
    "                S.add(i) ## add the node to set S\n",
    "                new_added = True\n",
    "                \n",
    "                ## now increment the dS of i's neighbors\n",
    "                for j in graph.neighbors(i):\n",
    "                    dS[j] += 1\n",
    "            \n",
    "        if(verbose):\n",
    "            print(\"t = \", t, \", S = \", S, '\\n')\n",
    "    \n",
    "    if(verbose):\n",
    "        print(\"T = \", t)\n",
    "        print(\"S_T = \", S)\n",
    "    \n",
    "    return S"
   ]
  },
  {
   "cell_type": "code",
   "execution_count": 15,
   "metadata": {},
   "outputs": [],
   "source": [
    "def get_theta(graph, alpha, C):\n",
    "    'θv = d(v)/2 − Cv/ 2α'\n",
    "    \n",
    "    theta = {}\n",
    "    \n",
    "    for i in graph.nodes:\n",
    "        theta_i = graph.degree(i) /2 - C[i]/(2*alpha)\n",
    "        theta.update({i:theta_i})\n",
    "    \n",
    "    return theta"
   ]
  },
  {
   "cell_type": "code",
   "execution_count": 17,
   "metadata": {},
   "outputs": [],
   "source": [
    "def get_S0(alpha, C, graph):\n",
    "    S0 = set()\n",
    "    for i in graph.nodes:\n",
    "        if(graph.degree(i) < C[i]/alpha):\n",
    "            S0.add(i)\n",
    "    return S0\n",
    "\n",
    "#sanity check\n",
    "# C = [-1 for i in range(len(g))]\n",
    "# S0 = get_S0(alpha = 1, C = C, graph = g)\n",
    "\n",
    "# theta = get_theta(graph= g, alpha = 1, C = C)\n",
    "\n",
    "# S_T = threshold_process(S0= S0, theta = theta, graph = g, verbose=True)\n",
    "\n",
    "# len(S_T)"
   ]
  },
  {
   "cell_type": "code",
   "execution_count": 141,
   "metadata": {},
   "outputs": [
    {
     "name": "stdout",
     "output_type": "stream",
     "text": [
      "|V| =  9527\n",
      "|E| =  82709\n",
      "Avg degree:  17.36307337042091\n",
      "CC_avg:  0.05051460526371834\n",
      "9527  &  82709  &  17.36307337042091  &  0.05051460526371834\n"
     ]
    }
   ],
   "source": [
    "'''Load Graph'''\n",
    "############# params of graph ############################\n",
    "N = 1000\n",
    "M = 20\n",
    "PROB_TRIANGLE = 0.3\n",
    "prob_edge = 0.2\n",
    "#########################################################\n",
    "# g = nx.erdos_renyi_graph(n=N, p = prob_edge, seed = 42)\n",
    "# g = nx.expected_degree_graph(w=[20 for i in range(N)], seed=42)\n",
    "# g = nx.read_edgelist(\"../data/facebook_combined.txt\", create_using = nx.Graph(), nodetype=int) ########### snap facebook data #############\n",
    "# g = nx.read_edgelist(\"../data/twitter_combined.txt\", create_using = nx.Graph(), nodetype=int) ########### snap facebook data #############\n",
    "# g = nx.read_edgelist(\"../data/email-EU-core.txt\", create_using = nx.Graph(), nodetype=int) ########### snap facebook data #############\n",
    "# g = nx.read_edgelist(\"../data/p2p-Gnutella04.txt\", create_using = nx.Graph(), nodetype=int) ########### snap facebook data #############\n",
    "g = nx.read_gexf(\"../data/twitter_sentiment_200.gexf\", node_type=None, relabel=False, version='1.1draft')\n",
    "# d = 5\n",
    "# g = nx.random_regular_graph(d=d, n = N, seed = 42)\n",
    "\n",
    "n = len(g)\n",
    "m = g.number_of_edges()\n",
    "# triangles = sum(nx.triangles(g).values())//3\n",
    "davg = sum(dict(g.degree).values())/len(g)\n",
    "ccavg = nx.average_clustering(g)\n",
    "\n",
    "\n",
    "print('|V| = ', n)\n",
    "print('|E| = ', m)\n",
    "# print('Triangles: ', triangles)\n",
    "print('Avg degree: ', davg)\n",
    "print('CC_avg: ', ccavg)\n",
    "\n",
    "print(n, ' & ', m , ' & ', davg , ' & ', ccavg)"
   ]
  },
  {
   "cell_type": "code",
   "execution_count": 303,
   "metadata": {},
   "outputs": [],
   "source": [
    "# nx.draw(g)"
   ]
  },
  {
   "cell_type": "code",
   "execution_count": 167,
   "metadata": {},
   "outputs": [
    {
     "data": {
      "text/plain": [
       "503"
      ]
     },
     "execution_count": 167,
     "metadata": {},
     "output_type": "execute_result"
    },
    {
     "data": {
      "image/png": "[encoded data removed]",
      "text/plain": [
       "<Figure size 432x288 with 1 Axes>"
      ]
     },
     "metadata": {
      "needs_background": "light"
     },
     "output_type": "display_data"
    }
   ],
   "source": [
    "start = 25\n",
    "end = 25.1\n",
    "interval = 0.1\n",
    "C_list = [{j:np.arange(start, end, interval)[i]  for j in g.nodes} for i in range(len(np.arange(start, end, interval)))]\n",
    "\n",
    "c = np.arange(start, end, interval)\n",
    "worst_NE_size = []\n",
    "\n",
    "alpha = 1\n",
    "\n",
    "for C in C_list:\n",
    "    S0 = get_S0(alpha = alpha, C = C, graph = g)\n",
    "\n",
    "    theta = get_theta(graph= g, alpha = alpha, C = C)\n",
    "\n",
    "    S_T = threshold_process(S0 = S0, theta = theta, graph = g, verbose=False)\n",
    "\n",
    "#     print(S_T)\n",
    "    \n",
    "    worst_NE_size.append(len(g)-len(S_T))\n",
    "    \n",
    "\n",
    "for i in range(len(worst_NE_size)):\n",
    "    if(worst_NE_size[i]  == 0 ):\n",
    "        print(c[i])\n",
    "        break\n",
    "    \n",
    "plt.plot(c, np.array(worst_NE_size)/len(g))\n",
    "plt.xlabel(r'$C/\\alpha$')\n",
    "plt.ylabel('Fraction of antivacc in NE')\n",
    "plt.title('Worst NE antivacc size vs' + r' $C/\\alpha$')\n",
    "plt.savefig('fig.eps')\n",
    "\n",
    "len(g)-len(S_T)\n"
   ]
  },
  {
   "cell_type": "code",
   "execution_count": 183,
   "metadata": {},
   "outputs": [],
   "source": [
    "# print(heh25)\n",
    "np.save('heh25', list(heh25))\n",
    "\n",
    "np.save('heh10', list(heh10))"
   ]
  },
  {
   "cell_type": "code",
   "execution_count": 18,
   "metadata": {},
   "outputs": [
    {
     "ename": "NameError",
     "evalue": "name 'wp2p' is not defined",
     "output_type": "error",
     "traceback": [
      "\u001b[1;31m---------------------------------------------------------------------------\u001b[0m",
      "\u001b[1;31mNameError\u001b[0m                                 Traceback (most recent call last)",
      "\u001b[1;32m<ipython-input-18-d3d57e35fcd0>\u001b[0m in \u001b[0;36m<module>\u001b[1;34m\u001b[0m\n\u001b[1;32m----> 1\u001b[1;33m \u001b[0mwne1\u001b[0m \u001b[1;33m=\u001b[0m \u001b[1;33m[\u001b[0m\u001b[0mwp2p\u001b[0m\u001b[1;33m,\u001b[0m \u001b[0mwchunglu\u001b[0m\u001b[1;33m,\u001b[0m \u001b[0mwemail\u001b[0m\u001b[1;33m,\u001b[0m\u001b[1;33m]\u001b[0m\u001b[1;33m\u001b[0m\u001b[1;33m\u001b[0m\u001b[0m\n\u001b[0m\u001b[0;32m      2\u001b[0m \u001b[0mlegend1\u001b[0m \u001b[1;33m=\u001b[0m \u001b[1;33m[\u001b[0m\u001b[1;34m'Gnutella p2p'\u001b[0m\u001b[1;33m,\u001b[0m \u001b[1;34m'email-EU-core'\u001b[0m\u001b[1;33m,\u001b[0m  \u001b[1;34m'Chung Lu'\u001b[0m\u001b[1;33m]\u001b[0m\u001b[1;33m\u001b[0m\u001b[1;33m\u001b[0m\u001b[0m\n\u001b[0;32m      3\u001b[0m \u001b[1;33m\u001b[0m\u001b[0m\n\u001b[0;32m      4\u001b[0m \u001b[1;33m\u001b[0m\u001b[0m\n\u001b[0;32m      5\u001b[0m \u001b[0mwne2\u001b[0m \u001b[1;33m=\u001b[0m \u001b[1;33m[\u001b[0m\u001b[0mwtwitter\u001b[0m\u001b[1;33m,\u001b[0m   \u001b[0mwfb\u001b[0m\u001b[1;33m,\u001b[0m  \u001b[0mwnerdos\u001b[0m\u001b[1;33m]\u001b[0m\u001b[1;33m\u001b[0m\u001b[1;33m\u001b[0m\u001b[0m\n",
      "\u001b[1;31mNameError\u001b[0m: name 'wp2p' is not defined"
     ]
    }
   ],
   "source": [
    "wne1 = [wp2p, wchunglu, wemail,]\n",
    "legend1 = ['Gnutella p2p', 'email-EU-core',  'Chung Lu']\n",
    "\n",
    "\n",
    "wne2 = [wtwitter,   wfb,  wnerdos]\n",
    "legend2 = ['Twitter Mentions', 'Facebook', 'Erdos-Renyi']\n"
   ]
  },
  {
   "cell_type": "code",
   "execution_count": 19,
   "metadata": {},
   "outputs": [
    {
     "ename": "NameError",
     "evalue": "name 'wne2' is not defined",
     "output_type": "error",
     "traceback": [
      "\u001b[1;31m---------------------------------------------------------------------------\u001b[0m",
      "\u001b[1;31mNameError\u001b[0m                                 Traceback (most recent call last)",
      "\u001b[1;32m<ipython-input-19-a5cabcb76b52>\u001b[0m in \u001b[0;36m<module>\u001b[1;34m\u001b[0m\n\u001b[1;32m----> 1\u001b[1;33m \u001b[1;32mfor\u001b[0m \u001b[0mw\u001b[0m \u001b[1;32min\u001b[0m \u001b[0mwne2\u001b[0m\u001b[1;33m:\u001b[0m\u001b[1;33m\u001b[0m\u001b[1;33m\u001b[0m\u001b[0m\n\u001b[0m\u001b[0;32m      2\u001b[0m     \u001b[0mplt\u001b[0m\u001b[1;33m.\u001b[0m\u001b[0mplot\u001b[0m\u001b[1;33m(\u001b[0m\u001b[0mc\u001b[0m\u001b[1;33m,\u001b[0m \u001b[0mnp\u001b[0m\u001b[1;33m.\u001b[0m\u001b[0marray\u001b[0m\u001b[1;33m(\u001b[0m\u001b[0mw\u001b[0m\u001b[1;33m)\u001b[0m\u001b[1;33m/\u001b[0m\u001b[0mw\u001b[0m\u001b[1;33m[\u001b[0m\u001b[1;36m0\u001b[0m\u001b[1;33m]\u001b[0m\u001b[1;33m)\u001b[0m\u001b[1;33m\u001b[0m\u001b[1;33m\u001b[0m\u001b[0m\n\u001b[0;32m      3\u001b[0m \u001b[1;33m\u001b[0m\u001b[0m\n\u001b[0;32m      4\u001b[0m \u001b[1;31m# plt.plot(c, np.array(wne[0])/wne[0][0], color='red')\u001b[0m\u001b[1;33m\u001b[0m\u001b[1;33m\u001b[0m\u001b[1;33m\u001b[0m\u001b[0m\n\u001b[0;32m      5\u001b[0m \u001b[1;33m\u001b[0m\u001b[0m\n",
      "\u001b[1;31mNameError\u001b[0m: name 'wne2' is not defined"
     ]
    }
   ],
   "source": [
    "for w in wne2:\n",
    "    plt.plot(c, np.array(w)/w[0])\n",
    "    \n",
    "# plt.plot(c, np.array(wne[0])/wne[0][0], color='red')\n",
    "    \n",
    "    \n",
    "plt.xlabel(r'$C/\\alpha$')\n",
    "plt.ylabel('Fraction of antivacc in NE')\n",
    "plt.title('Worst NE antivacc size vs' + r' $C/\\alpha$')\n",
    "plt.legend(legend2)\n",
    "plt.savefig('wne2.eps')"
   ]
  },
  {
   "cell_type": "code",
   "execution_count": 28,
   "metadata": {},
   "outputs": [
    {
     "name": "stdout",
     "output_type": "stream",
     "text": [
      "5.0\n",
      "28.0\n",
      "52.0\n",
      "78.0\n",
      "105.0\n",
      "131.0\n",
      "159.0\n"
     ]
    },
    {
     "name": "stderr",
     "output_type": "stream",
     "text": [
      "The PostScript backend does not support transparency; partially transparent artists will be rendered opaque.\n",
      "The PostScript backend does not support transparency; partially transparent artists will be rendered opaque.\n"
     ]
    },
    {
     "data": {
      "image/png": "[encoded data removed]",
      "text/plain": [
       "<Figure size 432x288 with 1 Axes>"
      ]
     },
     "metadata": {
      "needs_background": "light"
     },
     "output_type": "display_data"
    }
   ],
   "source": [
    "'7.2'\n",
    "\n",
    "start = 0\n",
    "end = 200\n",
    "interval = 0.1\n",
    "\n",
    "c = np.arange(start, end, interval)\n",
    "\n",
    "alpha = 1\n",
    "\n",
    "wd = {}\n",
    "\n",
    "for p in range(0,1, 0.05):\n",
    "    N = 1000\n",
    "    g = nx.erdos_renyi_graph(n=N, p = prob_edge, seed = 42)\n",
    "    \n",
    "    C_list = [{j:np.arange(start, end, interval)[i]  for j in g.nodes} for i in range(len(np.arange(start, end, interval)))]\n",
    "    \n",
    "    worst_NE_size = []\n",
    "\n",
    "    for C in C_list:\n",
    "        S0 = get_S0(alpha = alpha, C = C, graph = g)\n",
    "\n",
    "        theta = get_theta(graph= g, alpha = alpha, C = C)\n",
    "\n",
    "        S_T = threshold_process(S0 = S0, theta = theta, graph = g, verbose=False)\n",
    "\n",
    "        worst_NE_size.append(len(g)-len(S_T))\n",
    "\n",
    "    wd.update({d:worst_NE_size})\n",
    "\n",
    "    for i in range(len(worst_NE_size)):\n",
    "        if(worst_NE_size[i] == 0):\n",
    "            print(c[i])\n",
    "            break\n",
    "\n",
    "            \n",
    "            for d in wd:\n",
    "    plt.plot(c, np.array(wd[d])/wd[d][0])\n",
    "\n",
    "\n",
    "plt.xlim(0, 230)\n",
    "\n",
    "plt.xlabel(r'$C/\\alpha$')\n",
    "plt.ylabel('Fraction of antivacc in NE')\n",
    "plt.title('Worst NE antivacc size vs' + r' $C/\\alpha$')\n",
    "\n",
    "\n",
    "legend = list(wd.keys())\n",
    "legend = [r'$E[d] = $' + str(legend[i]) for i in range(len(legend))]\n",
    "\n",
    "plt.legend(legend)\n",
    "plt.savefig('wd.eps')\n"
   ]
  },
  {
   "cell_type": "code",
   "execution_count": 43,
   "metadata": {},
   "outputs": [
    {
     "name": "stderr",
     "output_type": "stream",
     "text": [
      "The PostScript backend does not support transparency; partially transparent artists will be rendered opaque.\n",
      "The PostScript backend does not support transparency; partially transparent artists will be rendered opaque.\n"
     ]
    },
    {
     "data": {
      "image/png": "[encoded data removed]",
      "text/plain": [
       "<Figure size 432x288 with 1 Axes>"
      ]
     },
     "metadata": {
      "needs_background": "light"
     },
     "output_type": "display_data"
    }
   ],
   "source": []
  },
  {
   "cell_type": "code",
   "execution_count": 71,
   "metadata": {},
   "outputs": [
    {
     "name": "stdout",
     "output_type": "stream",
     "text": [
      "0\n",
      "169\n",
      "355\n",
      "552\n",
      "758\n"
     ]
    }
   ],
   "source": [
    "'7.2'\n",
    "\n",
    "start = 0\n",
    "end = 1001\n",
    "interval = 1\n",
    "\n",
    "c = np.arange(start, end, interval)\n",
    "\n",
    "alpha = 1\n",
    "\n",
    "wd = {}\n",
    "\n",
    "for p in np.arange(0, 1, 0.2):\n",
    "    N = 1000\n",
    "    g = nx.erdos_renyi_graph(n=N, p = p, seed = 42)\n",
    "    \n",
    "    C_list = [{j:np.arange(start, end, interval)[i]  for j in g.nodes} for i in range(len(np.arange(start, end, interval)))]\n",
    "    \n",
    "    worst_NE_size = []\n",
    "\n",
    "    for C in C_list:\n",
    "        S0 = get_S0(alpha = alpha, C = C, graph = g)\n",
    "\n",
    "        theta = get_theta(graph= g, alpha = alpha, C = C)\n",
    "\n",
    "        S_T = threshold_process(S0 = S0, theta = theta, graph = g, verbose=False)\n",
    "\n",
    "        worst_NE_size.append(len(g)-len(S_T))\n",
    "\n",
    "    wd.update({p:worst_NE_size})\n",
    "\n",
    "    for i in range(len(worst_NE_size)):\n",
    "        if(worst_NE_size[i] == 0):\n",
    "            print(c[i])\n",
    "            break"
   ]
  },
  {
   "cell_type": "code",
   "execution_count": 77,
   "metadata": {},
   "outputs": [
    {
     "name": "stderr",
     "output_type": "stream",
     "text": [
      "C:\\Users\\ah3wj\\AppData\\Local\\Continuum\\anaconda3\\lib\\site-packages\\ipykernel_launcher.py:2: RuntimeWarning: invalid value encountered in true_divide\n",
      "  \n",
      "The PostScript backend does not support transparency; partially transparent artists will be rendered opaque.\n",
      "The PostScript backend does not support transparency; partially transparent artists will be rendered opaque.\n"
     ]
    },
    {
     "data": {
      "image/png": "[encoded data removed]",
      "text/plain": [
       "<Figure size 432x288 with 1 Axes>"
      ]
     },
     "metadata": {
      "needs_background": "light"
     },
     "output_type": "display_data"
    }
   ],
   "source": [
    "for d in wd:\n",
    "    plt.plot(c, np.array(wd[d])/wd[d][0])\n",
    "\n",
    "\n",
    "plt.xlim(0, 1100)\n",
    "\n",
    "plt.xlabel(r'$C/\\alpha$')\n",
    "plt.ylabel('Fraction of antivacc in NE')\n",
    "plt.title('Worst NE antivacc size vs' + r' $C/\\alpha$')\n",
    "\n",
    "\n",
    "legend = [200,400,600,800]\n",
    "legend = [r'$E[d] = $' + str(legend[i]) for i in range(len(legend))]\n",
    "\n",
    "plt.legend(legend)\n",
    "plt.savefig('wp.eps')"
   ]
  },
  {
   "cell_type": "code",
   "execution_count": 135,
   "metadata": {},
   "outputs": [
    {
     "name": "stdout",
     "output_type": "stream",
     "text": [
      "3.0, 3.0, 3.0, 3.0, 3.0, 3.0, 3.0, 3.0, 3.0, 3.0, 3.0, 3.0, 3.0, 3.0, 3.0, 3.0, 3.0, 3.0, 3.0, 3.0, 3.0, 3.0, 3.0, 3.0, 3.0, 3.0, 3.0, 3.0, 3.0, 3.0, 3.0, 3.0, 3.0, 3.0, 3.0, 3.0, 3.0, 3.0, 3.0, 3.0, 3.0, 3.0, 3.0, 3.0, 3.0, 3.0, 3.0, 3.0, 3.0, 3.0, 3.0, 3.0, 3.0, 3.0, 3.0, 3.0, 3.0, 3.0, 3.0, 3.0, 3.0, 3.0, 3.0, 3.0, 3.0, 3.0, 3.0, 3.0, 3.0, 3.0, 3.0, 3.0, 3.0, 3.0, 3.0, 3.0, 3.0, 3.0, 3.0, 3.0, 3.0, 3.0, 3.0, 3.0, 3.0, 3.0, 3.0, 3.0, 3.0, 3.0, 3.0, 3.0, 3.0, 3.0, 3.0, 3.0, 3.0, 3.0, 3.0, 3.0, "
     ]
    },
    {
     "ename": "KeyboardInterrupt",
     "evalue": "",
     "output_type": "error",
     "traceback": [
      "\u001b[1;31m---------------------------------------------------------------------------\u001b[0m",
      "\u001b[1;31mKeyboardInterrupt\u001b[0m                         Traceback (most recent call last)",
      "\u001b[1;32m<ipython-input-135-534011609776>\u001b[0m in \u001b[0;36m<module>\u001b[1;34m\u001b[0m\n\u001b[0;32m     36\u001b[0m       \u001b[0mS0\u001b[0m \u001b[1;33m=\u001b[0m \u001b[0mget_S0\u001b[0m\u001b[1;33m(\u001b[0m\u001b[0malpha\u001b[0m \u001b[1;33m=\u001b[0m \u001b[0malpha\u001b[0m\u001b[1;33m,\u001b[0m \u001b[0mC\u001b[0m \u001b[1;33m=\u001b[0m \u001b[0mC\u001b[0m\u001b[1;33m,\u001b[0m \u001b[0mgraph\u001b[0m \u001b[1;33m=\u001b[0m \u001b[0mg\u001b[0m\u001b[1;33m)\u001b[0m\u001b[1;33m.\u001b[0m\u001b[0munion\u001b[0m\u001b[1;33m(\u001b[0m\u001b[0mDk\u001b[0m\u001b[1;33m)\u001b[0m\u001b[1;33m\u001b[0m\u001b[1;33m\u001b[0m\u001b[0m\n\u001b[0;32m     37\u001b[0m \u001b[1;33m\u001b[0m\u001b[0m\n\u001b[1;32m---> 38\u001b[1;33m       \u001b[0mtheta\u001b[0m \u001b[1;33m=\u001b[0m \u001b[0mget_theta\u001b[0m\u001b[1;33m(\u001b[0m\u001b[0mgraph\u001b[0m\u001b[1;33m=\u001b[0m \u001b[0mg\u001b[0m\u001b[1;33m,\u001b[0m \u001b[0malpha\u001b[0m \u001b[1;33m=\u001b[0m \u001b[0malpha\u001b[0m\u001b[1;33m,\u001b[0m \u001b[0mC\u001b[0m \u001b[1;33m=\u001b[0m \u001b[0mC\u001b[0m\u001b[1;33m)\u001b[0m\u001b[1;33m\u001b[0m\u001b[1;33m\u001b[0m\u001b[0m\n\u001b[0m\u001b[0;32m     39\u001b[0m \u001b[1;33m\u001b[0m\u001b[0m\n\u001b[0;32m     40\u001b[0m       \u001b[0mS_T\u001b[0m \u001b[1;33m=\u001b[0m \u001b[0mthreshold_process\u001b[0m\u001b[1;33m(\u001b[0m\u001b[0mS0\u001b[0m \u001b[1;33m=\u001b[0m \u001b[0mS0\u001b[0m\u001b[1;33m,\u001b[0m \u001b[0mtheta\u001b[0m \u001b[1;33m=\u001b[0m \u001b[0mtheta\u001b[0m\u001b[1;33m,\u001b[0m \u001b[0mgraph\u001b[0m \u001b[1;33m=\u001b[0m \u001b[0mg\u001b[0m\u001b[1;33m,\u001b[0m \u001b[0mverbose\u001b[0m\u001b[1;33m=\u001b[0m\u001b[1;32mFalse\u001b[0m\u001b[1;33m)\u001b[0m\u001b[1;33m\u001b[0m\u001b[1;33m\u001b[0m\u001b[0m\n",
      "\u001b[1;32m<ipython-input-15-e32bdee97740>\u001b[0m in \u001b[0;36mget_theta\u001b[1;34m(graph, alpha, C)\u001b[0m\n\u001b[0;32m      5\u001b[0m \u001b[1;33m\u001b[0m\u001b[0m\n\u001b[0;32m      6\u001b[0m     \u001b[1;32mfor\u001b[0m \u001b[0mi\u001b[0m \u001b[1;32min\u001b[0m \u001b[0mgraph\u001b[0m\u001b[1;33m.\u001b[0m\u001b[0mnodes\u001b[0m\u001b[1;33m:\u001b[0m\u001b[1;33m\u001b[0m\u001b[1;33m\u001b[0m\u001b[0m\n\u001b[1;32m----> 7\u001b[1;33m         \u001b[0mtheta_i\u001b[0m \u001b[1;33m=\u001b[0m \u001b[0mgraph\u001b[0m\u001b[1;33m.\u001b[0m\u001b[0mdegree\u001b[0m\u001b[1;33m(\u001b[0m\u001b[0mi\u001b[0m\u001b[1;33m)\u001b[0m \u001b[1;33m/\u001b[0m\u001b[1;36m2\u001b[0m \u001b[1;33m-\u001b[0m \u001b[0mC\u001b[0m\u001b[1;33m[\u001b[0m\u001b[0mi\u001b[0m\u001b[1;33m]\u001b[0m\u001b[1;33m/\u001b[0m\u001b[1;33m(\u001b[0m\u001b[1;36m2\u001b[0m\u001b[1;33m*\u001b[0m\u001b[0malpha\u001b[0m\u001b[1;33m)\u001b[0m\u001b[1;33m\u001b[0m\u001b[1;33m\u001b[0m\u001b[0m\n\u001b[0m\u001b[0;32m      8\u001b[0m         \u001b[0mtheta\u001b[0m\u001b[1;33m.\u001b[0m\u001b[0mupdate\u001b[0m\u001b[1;33m(\u001b[0m\u001b[1;33m{\u001b[0m\u001b[0mi\u001b[0m\u001b[1;33m:\u001b[0m\u001b[0mtheta_i\u001b[0m\u001b[1;33m}\u001b[0m\u001b[1;33m)\u001b[0m\u001b[1;33m\u001b[0m\u001b[1;33m\u001b[0m\u001b[0m\n\u001b[0;32m      9\u001b[0m \u001b[1;33m\u001b[0m\u001b[0m\n",
      "\u001b[1;31mKeyboardInterrupt\u001b[0m: "
     ]
    }
   ],
   "source": [
    "'7.6'\n",
    "\n",
    "# g = nx.erdos_renyi_graph(n=N, p = prob_edge, seed = 42)\n",
    "# g = nx.expected_degree_graph(w=[20 for i in range(N)], seed=42)\n",
    "# g = nx.read_edgelist(\"../data/facebook_combined.txt\", create_using = nx.Graph(), nodetype=int) ########### snap facebook data #############\n",
    "# g = nx.read_edgelist(\"../data/twitter_combined.txt\", create_using = nx.Graph(), nodetype=int) ########### snap facebook data #############\n",
    "# g = nx.read_edgelist(\"../data/email-EU-core.txt\", create_using = nx.Graph(), nodetype=int) ########### snap facebook data #############\n",
    "g = nx.read_edgelist(\"../data/p2p-Gnutella04.txt\", create_using = nx.Graph(), nodetype=int) ########### snap facebook data #############\n",
    "# g = nx.read_gexf(\"../data/twitter_sentiment_200.gexf\", node_type=None, relabel=False, version='1.1draft')\n",
    "# d = 5\n",
    "# g = nx.random_regular_graph(d=d, n = N, seed = 42)\n",
    "\n",
    "\n",
    "\n",
    "start = 0\n",
    "end = 5\n",
    "interval = 0.1\n",
    "C_list = [{j:np.arange(start, end, interval)[i]  for j in g.nodes} for i in range(len(np.arange(start, end, interval)))]\n",
    "\n",
    "c = np.arange(start, end, interval)\n",
    "worst_NE_size = []\n",
    "\n",
    "alpha = 1\n",
    "\n",
    "sorted_graph = sorted(g.degree, key = lambda x: x[1], reverse=True)\n",
    "\n",
    "\n",
    "\n",
    "\n",
    "\n",
    "for k in range(0,1001,5):\n",
    "  worst_NE_size = []\n",
    "  Dk = set([sorted_graph[:k][i][1] for i in range(k)])\n",
    "\n",
    "  for C in C_list:\n",
    "      S0 = get_S0(alpha = alpha, C = C, graph = g).union(Dk)\n",
    "\n",
    "      theta = get_theta(graph= g, alpha = alpha, C = C)\n",
    "\n",
    "      S_T = threshold_process(S0 = S0, theta = theta, graph = g, verbose=False)\n",
    "      \n",
    "      worst_NE_size.append(len(g)-len(S_T))\n",
    "  \n",
    "  for i in range(len(worst_NE_size)):\n",
    "      if(worst_NE_size[i] == 0):\n",
    "          print(c[i], end=', ')\n",
    "          break"
   ]
  },
  {
   "cell_type": "code",
   "execution_count": 140,
   "metadata": {},
   "outputs": [
    {
     "data": {
      "image/png": "[encoded data removed]",
      "text/plain": [
       "<Figure size 432x288 with 1 Axes>"
      ]
     },
     "metadata": {
      "needs_background": "light"
     },
     "output_type": "display_data"
    }
   ],
   "source": [
    "x = range(0,1001,5)\n",
    "\n",
    "yemail = [17, 16, 16, 15, 15, 15, 15, 14, 14, 14, 14, 12, 12, 12, 12, 12, 11, 11, 11, 10, 10, 10, 10, 10, 10, 10, 10, 9, 8, 8, 8, 7, 7, 7, 7, 7, 7, 7, 7, 7, 7, 7, 7, 7, 7, 7, 7, 7, 7, 7, 7, 7, 7, 7, 7, 7, 7, 7, 7, 7, 7, 7, 7, 7, 6, 6, 6, 6, 6, 6, 6, 6, 6, 6, 6, 6, 6, 5, 5, 5, 5, 5, 5, 5, 5, 5, 5, 5, 5, 5, 5, 5, 5, 5, 5, 5, 5, 5, 5, 5, 5, 5, 5, 5, 5, 4, 4, 4, 4, 4, 4, 4, 4, 4, 4, 4, 4, 3, 3, 3, 3, 3, 3, 3, 3, 3, 3, 3, 3, 3, 3, 3, 3, 3, 3, 3, 3, 3, 3, 3, 3, 3, 3, 3, 3, 3, 3, 3, 3, 3, 3, 3, 2, 2, 2, 2, 2, 2, 2, 2, 2, 2, 2, 2, 2, 2, 2, 2, 2, 2, 2, 2, 2, 2, 2, 2, 2, 2, 2, 2, 2, 2, 2, 2, 2, 2, 2, 2, 2, 2, 2, 2, 2, 2, 2, 2, 2, 2, 2, 2, 2]\n",
    "yerdos = [169, 167, 167, 165, 165, 164, 163, 163, 163, 162, 162, 162, 162, 162, 162, 162, 162, 162, 162, 162, 162, 162, 162, 161, 161, 161, 161, 161, 161, 161, 160, 160, 160, 160, 160, 160, 160, 160, 160, 160, 159, 159, 159, 159, 159, 159, 159, 159, 159, 159, 159, 159, 159, 158, 158, 158, 158, 158, 158, 158, 158, 158, 158, 158, 157, 157, 157, 157, 157, 157, 157, 157, 157, 157, 157, 157, 157, 157, 156, 156, 156, 156, 156, 156, 156, 156, 156, 156, 156, 156, 155, 155, 155, 155, 155, 155, 155, 155, 155, 155, 155, 155, 155, 155, 155, 155, 155, 155, 155, 154, 154, 154, 154, 154, 154, 154, 154, 154, 154, 154, 154, 154, 154, 154, 154, 154, 153, 153, 153, 153, 153, 153, 153, 152, 152, 152, 152, 152, 152, 152, 152, 152, 152, 152, 152, 152, 152, 152, 152, 152, 152, 152, 151, 151, 151, 151, 151, 151, 151, 151, 151, 151, 151, 151, 151, 150, 150, 150, 150, 150, 150, 150, 150, 149, 149, 149, 149, 149, 149, 148, 148, 148, 148, 148, 148, 148, 147, 147, 147, 147, 146, 146, 146, 146, 146, 144, 144, 143, 143, 143, 139]\n",
    "yfacebook = [93, 93, 93, 93, 93, 93, 93, 93, 93, 93, 93, 93, 93, 93, 93, 93, 93, 93, 93, 93, 93, 93, 93, 93, 93, 93, 93, 93, 93, 93, 93, 93, 93, 93, 93, 93, 93, 93, 93, 93, 93, 93, 93, 93, 93, 93, 93, 93, 93, 93, 93, 93, 93, 93, 93, 93, 93, 93, 93, 93, 93, 93, 93, 93, 93, 93, 93, 93, 93, 93, 93, 93, 93, 93, 93, 93, 93, 93, 93, 93, 93, 93, 93, 93, 93, 93, 93, 93, 93, 93, 93, 93, 93, 93, 93, 93, 93, 93, 93, 93, 93, 93, 93, 93, 93, 93, 93, 93, 93, 93, 93, 93, 93, 93, 93, 93, 93, 93, 93, 93, 93, 93, 93, 93, 93, 93, 93, 93, 93, 93, 93, 93, 93, 93, 93, 93, 93, 93, 93, 93, 93, 93, 93, 93, 93, 93, 93, 93, 93, 93, 93, 93, 93, 93, 93, 93, 93, 93, 93, 93, 93, 93, 93, 93, 93, 93, 93, 93, 93, 93, 93, 93, 93, 93, 93, 93, 93, 93, 93, 93, 93, 93, 93, 93, 93, 93, 93, 93, 93, 93, 93, 93, 93, 93, 93, 93, 93, 93, 93, 93, 93]\n",
    "\n",
    "y_list = [yemail] \n",
    "legend = ['Erdos-Renyi', 'Facebook', 'email-EU-core', 'Gnutell p2p', 'Twitter Mentions']\n",
    "\n",
    "for y in y_list:\n",
    "  plt.plot(x,y)\n",
    "  \n",
    "plt.xlabel(r'$k$')\n",
    "plt.ylabel(r' $\\theta_{critical}$')\n",
    "plt.title(r' $\\theta_{critical}$  vs  $k$')\n",
    "# plt.legend(legend)\n",
    "plt.savefig('theta_vs_k.eps')"
   ]
  }
 ],
 "metadata": {
  "colab": {
   "collapsed_sections": [],
   "name": "Antivaccine_sentiment.ipynb",
   "provenance": []
  },
  "kernelspec": {
   "display_name": "Python 3",
   "language": "python",
   "name": "python3"
  },
  "language_info": {
   "codemirror_mode": {
    "name": "ipython",
    "version": 3
   },
   "file_extension": ".py",
   "mimetype": "text/x-python",
   "name": "python",
   "nbconvert_exporter": "python",
   "pygments_lexer": "ipython3",
   "version": "3.7.5"
  }
 },
 "nbformat": 4,
 "nbformat_minor": 4
}
